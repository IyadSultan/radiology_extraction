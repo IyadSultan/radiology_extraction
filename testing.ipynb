{
 "cells": [
  {
   "cell_type": "code",
   "execution_count": 6,
   "metadata": {},
   "outputs": [
    {
     "name": "stdout",
     "output_type": "stream",
     "text": [
      "CSV file successfully loaded!\n",
      "              MRN           EXAM DATE/TIME            VERIFIED DATE  \\\n",
      "0  13995332247820  2021-07-26 12:51:00.000  2021-07-27 17:19:00.000   \n",
      "1  12633977630399  2021-07-26 11:33:00.000  2021-07-27 17:21:00.000   \n",
      "2  13164894301526  2021-07-27 21:14:00.000  2021-07-27 21:38:00.000   \n",
      "3  14601142299512  2022-01-16 09:22:00.000  2022-01-16 09:25:00.000   \n",
      "4  17207276046856  2023-09-12 14:49:00.000  2023-09-13 06:26:00.000   \n",
      "\n",
      "       DATE REPORT ENTERED                  VERIFYING PHYSICIAN  \\\n",
      "0  2021-07-27 17:19:00.000            MUJLLI,MOHAMMAD IQAB MOHD   \n",
      "1  2021-07-27 17:21:00.000  AL KHAWALDEH,KHALED MOHAMMAD GHAL H   \n",
      "2  2021-07-27 21:38:00.000        NOFAL,ABDALLAH JAMIL ABDALLAH   \n",
      "3  2022-01-16 09:25:00.000        NOFAL,ABDALLAH JAMIL ABDALLAH   \n",
      "4  2023-09-13 06:26:00.000        NOFAL,ABDALLAH JAMIL ABDALLAH   \n",
      "\n",
      "                      TRANSCRIPTIONIST       IMAGING LOCATION  \\\n",
      "0            MUJLLI,MOHAMMAD IQAB MOHD   KHCC 1_MAIN BUILDING   \n",
      "1  AL KHAWALDEH,KHALED MOHAMMAD GHAL H  KHCC Nuclear Medicine   \n",
      "2        NOFAL,ABDALLAH JAMIL ABDALLAH   KHCC 1_MAIN BUILDING   \n",
      "3        NOFAL,ABDALLAH JAMIL ABDALLAH   KHCC 1_MAIN BUILDING   \n",
      "4        NOFAL,ABDALLAH JAMIL ABDALLAH   KHCC 1_MAIN BUILDING   \n",
      "\n",
      "                          PROCEDURE EXAM STATUS CATEGORY OF EXAM  \\\n",
      "0           +CT CHEST WITH CONTRAST   +COMPLETE       OUTPATIENT   \n",
      "1  NM FDG-18 WHOLE BODY PET/CT SCAN    COMPLETE       OUTPATIENT   \n",
      "2          X RAY PORTABLE EACH FILM    COMPLETE        INPATIENT   \n",
      "3          X RAY PORTABLE EACH FILM    COMPLETE        INPATIENT   \n",
      "4                           CD COPY    COMPLETE       OUTPATIENT   \n",
      "\n",
      "                 PRINCIPAL CLINIC              REQUESTING PHYSICIAN  \\\n",
      "0  LYMPHOM ONC-ALA OTHMAN ABUFARA               ABU-FARA,ALA OTHMAN   \n",
      "1        zzGYN ONC-GHADEER ABDEEN      EL-ATRASH,MARYAM BAKER AHMAD   \n",
      "2                             NaN  AL SMADI,KHALED IBRAHIM MOHAMMAD   \n",
      "3                             NaN       ABU NASER,NEEBAL KHALED ALI   \n",
      "4                       DR OFFICE     NOFAL,ABDALLAH JAMIL ABDALLAH   \n",
      "\n",
      "            PRIMARY INTERPRETING STAFF  \\\n",
      "0           +MUJLLI,MOHAMMAD IQAB MOHD   \n",
      "1  AL KHAWALDEH,KHALED MOHAMMAD GHAL H   \n",
      "2        NOFAL,ABDALLAH JAMIL ABDALLAH   \n",
      "3        NOFAL,ABDALLAH JAMIL ABDALLAH   \n",
      "4        NOFAL,ABDALLAH JAMIL ABDALLAH   \n",
      "\n",
      "                                          IMPRESSION  \\\n",
      "0  \\n\\n\\n\\n\\nThere has been no significant interv...   \n",
      "1  \\n\\n\\n\\n\\n- Findings are compatible with parti...   \n",
      "2  \\n\\n\\n\\n\\nReport will be available upon reques...   \n",
      "3  \\n\\n\\n\\n\\nReport will be available upon reques...   \n",
      "4  \\n\\n\\n\\n\\nReport will be available upon reques...   \n",
      "\n",
      "                                              REPORT  \n",
      "0  \\nDiagnosis: Lymphoma.\\n\\n\\n\\nReason: Follow-u...  \n",
      "1  \\n(18)F-FDG PET/CT whole body scan: \\n\\n\\n\\nPr...  \n",
      "2  \\n\\n\\n\\n\\nReport will be available upon reques...  \n",
      "3  \\n\\n\\n\\n\\nReport will be available upon reques...  \n",
      "4  \\n\\n\\n\\n\\nReport will be available upon reques...  \n"
     ]
    }
   ],
   "source": [
    "# Import required libraries\n",
    "import pandas as pd\n",
    "\n",
    "try:\n",
    "    # Read the CSV file from the specified path\n",
    "    # Note: Using raw string (r) to handle Windows file paths\n",
    "    df = pd.read_csv(r'data/Results.csv')\n",
    "    print(\"CSV file successfully loaded!\")\n",
    "    \n",
    "except FileNotFoundError:\n",
    "    print(\"Error: The file was not found. Please check if the path 'E:\\\\Dropbox\\\\AI\\\\Data\\\\Radiology_Reports\\\\radiology_reports.csv' is correct.\")\n",
    "except pd.errors.EmptyDataError:\n",
    "    print(\"Error: The CSV file is empty.\")\n",
    "except Exception as e:\n",
    "    print(f\"An unexpected error occurred while reading the file: {str(e)}\")\n",
    "\n",
    "print(df.head())\n"
   ]
  },
  {
   "cell_type": "code",
   "execution_count": 7,
   "metadata": {},
   "outputs": [
    {
     "name": "stdout",
     "output_type": "stream",
     "text": [
      "Column names in the dataset:\n",
      "['MRN', 'EXAM_DATE', 'PROCEDURE', 'REPORT', 'modality', 'body_region', 'comparison_date', 'target_lesions', 'non_target_lesions', 'new_lesions', 'overall_assessment', 'ICDO3_site', 'ICDO3_site_term', 'ICDO3_site_similarity', 'tumor_response', 'error']\n"
     ]
    }
   ],
   "source": [
    "import pandas as pd\n",
    "# Read the CSV file\n",
    "df = pd.read_csv('radiology_results_10.csv')\n",
    "\n",
    "# Display the column names\n",
    "print(\"Column names in the dataset:\")\n",
    "print(df.columns.tolist())\n",
    "\n"
   ]
  }
 ],
 "metadata": {
  "kernelspec": {
   "display_name": "venv",
   "language": "python",
   "name": "python3"
  },
  "language_info": {
   "codemirror_mode": {
    "name": "ipython",
    "version": 3
   },
   "file_extension": ".py",
   "mimetype": "text/x-python",
   "name": "python",
   "nbconvert_exporter": "python",
   "pygments_lexer": "ipython3",
   "version": "3.10.15"
  }
 },
 "nbformat": 4,
 "nbformat_minor": 2
}
