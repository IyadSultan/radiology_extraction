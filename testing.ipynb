{
 "cells": [
  {
   "cell_type": "code",
   "execution_count": 1,
   "metadata": {},
   "outputs": [
    {
     "name": "stdout",
     "output_type": "stream",
     "text": [
      "CSV file successfully loaded!\n"
     ]
    }
   ],
   "source": [
    "# Import required libraries\n",
    "import pandas as pd\n",
    "\n",
    "try:\n",
    "    # Read the CSV file from the specified path\n",
    "    # Note: Using raw string (r) to handle Windows file paths\n",
    "    df = pd.read_csv(r'E:\\Dropbox\\AI\\Data\\Radiology_Reports\\radiology_reports.csv')\n",
    "    print(\"CSV file successfully loaded!\")\n",
    "    \n",
    "except FileNotFoundError:\n",
    "    print(\"Error: The file was not found. Please check if the path 'E:\\\\Dropbox\\\\AI\\\\Data\\\\Radiology_Reports\\\\radiology_reports.csv' is correct.\")\n",
    "except pd.errors.EmptyDataError:\n",
    "    print(\"Error: The CSV file is empty.\")\n",
    "except Exception as e:\n",
    "    print(f\"An unexpected error occurred while reading the file: {str(e)}\")\n"
   ]
  },
  {
   "cell_type": "code",
   "execution_count": 5,
   "metadata": {},
   "outputs": [
    {
     "data": {
      "text/plain": [
       "(928993, 5)"
      ]
     },
     "execution_count": 5,
     "metadata": {},
     "output_type": "execute_result"
    }
   ],
   "source": [
    "df.shape\n",
    "\n"
   ]
  }
 ],
 "metadata": {
  "kernelspec": {
   "display_name": "venv",
   "language": "python",
   "name": "python3"
  },
  "language_info": {
   "codemirror_mode": {
    "name": "ipython",
    "version": 3
   },
   "file_extension": ".py",
   "mimetype": "text/x-python",
   "name": "python",
   "nbconvert_exporter": "python",
   "pygments_lexer": "ipython3",
   "version": "3.10.15"
  }
 },
 "nbformat": 4,
 "nbformat_minor": 2
}
